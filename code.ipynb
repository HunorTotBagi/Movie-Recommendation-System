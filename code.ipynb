{
 "cells": [
  {
   "cell_type": "markdown",
   "id": "8a3d204e",
   "metadata": {},
   "source": [
    "#### Reading in our movie data "
   ]
  },
  {
   "cell_type": "code",
   "execution_count": 1,
   "id": "d211b59d",
   "metadata": {},
   "outputs": [],
   "source": [
    "from sklearn.feature_extraction.text import TfidfVectorizer\n",
    "from sklearn.metrics.pairwise import cosine_similarity\n",
    "from IPython.display import display\n",
    "import ipywidgets as widgets\n",
    "import pandas as pd\n",
    "import numpy as np\n",
    "import re"
   ]
  },
  {
   "cell_type": "markdown",
   "id": "0ed77071",
   "metadata": {},
   "source": [
    "#### Data can be found on this link https://files.grouplens.org/dataset/movielens/ml-25m.zip"
   ]
  },
  {
   "cell_type": "code",
   "execution_count": 2,
   "id": "53fd05c8",
   "metadata": {},
   "outputs": [
    {
     "data": {
      "text/html": [
       "<div>\n",
       "<style scoped>\n",
       "    .dataframe tbody tr th:only-of-type {\n",
       "        vertical-align: middle;\n",
       "    }\n",
       "\n",
       "    .dataframe tbody tr th {\n",
       "        vertical-align: top;\n",
       "    }\n",
       "\n",
       "    .dataframe thead th {\n",
       "        text-align: right;\n",
       "    }\n",
       "</style>\n",
       "<table border=\"1\" class=\"dataframe\">\n",
       "  <thead>\n",
       "    <tr style=\"text-align: right;\">\n",
       "      <th></th>\n",
       "      <th>movieId</th>\n",
       "      <th>title</th>\n",
       "      <th>genres</th>\n",
       "    </tr>\n",
       "  </thead>\n",
       "  <tbody>\n",
       "    <tr>\n",
       "      <th>0</th>\n",
       "      <td>1</td>\n",
       "      <td>Toy Story (1995)</td>\n",
       "      <td>Adventure|Animation|Children|Comedy|Fantasy</td>\n",
       "    </tr>\n",
       "    <tr>\n",
       "      <th>1</th>\n",
       "      <td>2</td>\n",
       "      <td>Jumanji (1995)</td>\n",
       "      <td>Adventure|Children|Fantasy</td>\n",
       "    </tr>\n",
       "    <tr>\n",
       "      <th>2</th>\n",
       "      <td>3</td>\n",
       "      <td>Grumpier Old Men (1995)</td>\n",
       "      <td>Comedy|Romance</td>\n",
       "    </tr>\n",
       "    <tr>\n",
       "      <th>3</th>\n",
       "      <td>4</td>\n",
       "      <td>Waiting to Exhale (1995)</td>\n",
       "      <td>Comedy|Drama|Romance</td>\n",
       "    </tr>\n",
       "    <tr>\n",
       "      <th>4</th>\n",
       "      <td>5</td>\n",
       "      <td>Father of the Bride Part II (1995)</td>\n",
       "      <td>Comedy</td>\n",
       "    </tr>\n",
       "    <tr>\n",
       "      <th>...</th>\n",
       "      <td>...</td>\n",
       "      <td>...</td>\n",
       "      <td>...</td>\n",
       "    </tr>\n",
       "    <tr>\n",
       "      <th>62418</th>\n",
       "      <td>209157</td>\n",
       "      <td>We (2018)</td>\n",
       "      <td>Drama</td>\n",
       "    </tr>\n",
       "    <tr>\n",
       "      <th>62419</th>\n",
       "      <td>209159</td>\n",
       "      <td>Window of the Soul (2001)</td>\n",
       "      <td>Documentary</td>\n",
       "    </tr>\n",
       "    <tr>\n",
       "      <th>62420</th>\n",
       "      <td>209163</td>\n",
       "      <td>Bad Poems (2018)</td>\n",
       "      <td>Comedy|Drama</td>\n",
       "    </tr>\n",
       "    <tr>\n",
       "      <th>62421</th>\n",
       "      <td>209169</td>\n",
       "      <td>A Girl Thing (2001)</td>\n",
       "      <td>(no genres listed)</td>\n",
       "    </tr>\n",
       "    <tr>\n",
       "      <th>62422</th>\n",
       "      <td>209171</td>\n",
       "      <td>Women of Devil's Island (1962)</td>\n",
       "      <td>Action|Adventure|Drama</td>\n",
       "    </tr>\n",
       "  </tbody>\n",
       "</table>\n",
       "<p>62423 rows × 3 columns</p>\n",
       "</div>"
      ],
      "text/plain": [
       "       movieId                               title  \\\n",
       "0            1                    Toy Story (1995)   \n",
       "1            2                      Jumanji (1995)   \n",
       "2            3             Grumpier Old Men (1995)   \n",
       "3            4            Waiting to Exhale (1995)   \n",
       "4            5  Father of the Bride Part II (1995)   \n",
       "...        ...                                 ...   \n",
       "62418   209157                           We (2018)   \n",
       "62419   209159           Window of the Soul (2001)   \n",
       "62420   209163                    Bad Poems (2018)   \n",
       "62421   209169                 A Girl Thing (2001)   \n",
       "62422   209171      Women of Devil's Island (1962)   \n",
       "\n",
       "                                            genres  \n",
       "0      Adventure|Animation|Children|Comedy|Fantasy  \n",
       "1                       Adventure|Children|Fantasy  \n",
       "2                                   Comedy|Romance  \n",
       "3                             Comedy|Drama|Romance  \n",
       "4                                           Comedy  \n",
       "...                                            ...  \n",
       "62418                                        Drama  \n",
       "62419                                  Documentary  \n",
       "62420                                 Comedy|Drama  \n",
       "62421                           (no genres listed)  \n",
       "62422                       Action|Adventure|Drama  \n",
       "\n",
       "[62423 rows x 3 columns]"
      ]
     },
     "execution_count": 2,
     "metadata": {},
     "output_type": "execute_result"
    }
   ],
   "source": [
    "movies = pd.read_csv(\"data/movies.csv\")\n",
    "movies"
   ]
  },
  {
   "cell_type": "markdown",
   "id": "287f09bc",
   "metadata": {},
   "source": [
    "#### The function \"clean_title\" below will clean movie titles using regex. It will search through each title and remove any characters that are not a space, digit, or letter (lowercase or uppercase)."
   ]
  },
  {
   "cell_type": "code",
   "execution_count": 3,
   "id": "b7b710c5",
   "metadata": {},
   "outputs": [],
   "source": [
    "def clean_title(title):\n",
    "    return re.sub(\"[^a-zA-Z0-9 ]\", \"\", title)"
   ]
  },
  {
   "cell_type": "markdown",
   "id": "89114a9b",
   "metadata": {},
   "source": [
    "#### A new column called 'Clean-title' will be created in the data frame to store the cleaned up titles."
   ]
  },
  {
   "cell_type": "code",
   "execution_count": 4,
   "id": "9d039719",
   "metadata": {
    "scrolled": true
   },
   "outputs": [
    {
     "data": {
      "text/html": [
       "<div>\n",
       "<style scoped>\n",
       "    .dataframe tbody tr th:only-of-type {\n",
       "        vertical-align: middle;\n",
       "    }\n",
       "\n",
       "    .dataframe tbody tr th {\n",
       "        vertical-align: top;\n",
       "    }\n",
       "\n",
       "    .dataframe thead th {\n",
       "        text-align: right;\n",
       "    }\n",
       "</style>\n",
       "<table border=\"1\" class=\"dataframe\">\n",
       "  <thead>\n",
       "    <tr style=\"text-align: right;\">\n",
       "      <th></th>\n",
       "      <th>movieId</th>\n",
       "      <th>title</th>\n",
       "      <th>genres</th>\n",
       "      <th>Clean-title</th>\n",
       "    </tr>\n",
       "  </thead>\n",
       "  <tbody>\n",
       "    <tr>\n",
       "      <th>0</th>\n",
       "      <td>1</td>\n",
       "      <td>Toy Story (1995)</td>\n",
       "      <td>Adventure|Animation|Children|Comedy|Fantasy</td>\n",
       "      <td>Toy Story 1995</td>\n",
       "    </tr>\n",
       "    <tr>\n",
       "      <th>1</th>\n",
       "      <td>2</td>\n",
       "      <td>Jumanji (1995)</td>\n",
       "      <td>Adventure|Children|Fantasy</td>\n",
       "      <td>Jumanji 1995</td>\n",
       "    </tr>\n",
       "    <tr>\n",
       "      <th>2</th>\n",
       "      <td>3</td>\n",
       "      <td>Grumpier Old Men (1995)</td>\n",
       "      <td>Comedy|Romance</td>\n",
       "      <td>Grumpier Old Men 1995</td>\n",
       "    </tr>\n",
       "    <tr>\n",
       "      <th>3</th>\n",
       "      <td>4</td>\n",
       "      <td>Waiting to Exhale (1995)</td>\n",
       "      <td>Comedy|Drama|Romance</td>\n",
       "      <td>Waiting to Exhale 1995</td>\n",
       "    </tr>\n",
       "    <tr>\n",
       "      <th>4</th>\n",
       "      <td>5</td>\n",
       "      <td>Father of the Bride Part II (1995)</td>\n",
       "      <td>Comedy</td>\n",
       "      <td>Father of the Bride Part II 1995</td>\n",
       "    </tr>\n",
       "  </tbody>\n",
       "</table>\n",
       "</div>"
      ],
      "text/plain": [
       "   movieId                               title  \\\n",
       "0        1                    Toy Story (1995)   \n",
       "1        2                      Jumanji (1995)   \n",
       "2        3             Grumpier Old Men (1995)   \n",
       "3        4            Waiting to Exhale (1995)   \n",
       "4        5  Father of the Bride Part II (1995)   \n",
       "\n",
       "                                        genres  \\\n",
       "0  Adventure|Animation|Children|Comedy|Fantasy   \n",
       "1                   Adventure|Children|Fantasy   \n",
       "2                               Comedy|Romance   \n",
       "3                         Comedy|Drama|Romance   \n",
       "4                                       Comedy   \n",
       "\n",
       "                        Clean-title  \n",
       "0                    Toy Story 1995  \n",
       "1                      Jumanji 1995  \n",
       "2             Grumpier Old Men 1995  \n",
       "3            Waiting to Exhale 1995  \n",
       "4  Father of the Bride Part II 1995  "
      ]
     },
     "execution_count": 4,
     "metadata": {},
     "output_type": "execute_result"
    }
   ],
   "source": [
    "movies[\"Clean-title\"] = movies[\"title\"].apply(clean_title)\n",
    "movies.head()"
   ]
  },
  {
   "cell_type": "markdown",
   "id": "03789263",
   "metadata": {},
   "source": [
    "#### Creating a TFIDF (Term Frequency Inverse Document Frequency) Matrix. Taking the log of the values. Word \"the\" is common.\n",
    "\n",
    "#### The parameter \"ngram_range\" is not just looking for individual words in the title, it also looks for consecutive pairs of words, making the search more accurate."
   ]
  },
  {
   "cell_type": "code",
   "execution_count": 5,
   "id": "9dda495d",
   "metadata": {},
   "outputs": [],
   "source": [
    "vectorizer = TfidfVectorizer(ngram_range=(1,2))\n",
    "\n",
    "tfidf = vectorizer.fit_transform(movies[\"Clean-title\"])"
   ]
  },
  {
   "cell_type": "markdown",
   "id": "1cef32e2",
   "metadata": {},
   "source": [
    "#### Creating the search function. We will compute the similarity between the term entered and all of the movies in our list using cosine similarity."
   ]
  },
  {
   "cell_type": "code",
   "execution_count": 6,
   "id": "569736a2",
   "metadata": {},
   "outputs": [],
   "source": [
    "def search(title):\n",
    "    \n",
    "    # Put the input title in \"title\" variable\n",
    "    title = clean_title(title)\n",
    "    \n",
    "    # Create TFIDF for the input word\n",
    "    query_vec = vectorizer.transform([title])\n",
    "    \n",
    "    # Get the list of similarityes between the whole list and the query_vec\n",
    "    similarity = cosine_similarity(query_vec, tfidf).flatten()\n",
    "    \n",
    "    # Get only those indeces that are relevan, the best ones. In sorted order\n",
    "    indices = np.argpartition(similarity, -5)[-5:]\n",
    "    \n",
    "    # Put them into \"results\" and revert the order\n",
    "    results = movies.iloc[indices][::-1]\n",
    "    return results"
   ]
  },
  {
   "cell_type": "code",
   "execution_count": 7,
   "id": "3cedc8d0",
   "metadata": {},
   "outputs": [
    {
     "data": {
      "text/html": [
       "<div>\n",
       "<style scoped>\n",
       "    .dataframe tbody tr th:only-of-type {\n",
       "        vertical-align: middle;\n",
       "    }\n",
       "\n",
       "    .dataframe tbody tr th {\n",
       "        vertical-align: top;\n",
       "    }\n",
       "\n",
       "    .dataframe thead th {\n",
       "        text-align: right;\n",
       "    }\n",
       "</style>\n",
       "<table border=\"1\" class=\"dataframe\">\n",
       "  <thead>\n",
       "    <tr style=\"text-align: right;\">\n",
       "      <th></th>\n",
       "      <th>movieId</th>\n",
       "      <th>title</th>\n",
       "      <th>genres</th>\n",
       "      <th>Clean-title</th>\n",
       "    </tr>\n",
       "  </thead>\n",
       "  <tbody>\n",
       "    <tr>\n",
       "      <th>1865</th>\n",
       "      <td>1954</td>\n",
       "      <td>Rocky (1976)</td>\n",
       "      <td>Drama</td>\n",
       "      <td>Rocky 1976</td>\n",
       "    </tr>\n",
       "    <tr>\n",
       "      <th>2321</th>\n",
       "      <td>2412</td>\n",
       "      <td>Rocky V (1990)</td>\n",
       "      <td>Action|Drama</td>\n",
       "      <td>Rocky V 1990</td>\n",
       "    </tr>\n",
       "    <tr>\n",
       "      <th>2318</th>\n",
       "      <td>2409</td>\n",
       "      <td>Rocky II (1979)</td>\n",
       "      <td>Action|Drama</td>\n",
       "      <td>Rocky II 1979</td>\n",
       "    </tr>\n",
       "    <tr>\n",
       "      <th>2319</th>\n",
       "      <td>2410</td>\n",
       "      <td>Rocky III (1982)</td>\n",
       "      <td>Action|Drama</td>\n",
       "      <td>Rocky III 1982</td>\n",
       "    </tr>\n",
       "    <tr>\n",
       "      <th>26168</th>\n",
       "      <td>125327</td>\n",
       "      <td>Rocky Mountain (1950)</td>\n",
       "      <td>Action|Adventure|Western</td>\n",
       "      <td>Rocky Mountain 1950</td>\n",
       "    </tr>\n",
       "  </tbody>\n",
       "</table>\n",
       "</div>"
      ],
      "text/plain": [
       "       movieId                  title                    genres  \\\n",
       "1865      1954           Rocky (1976)                     Drama   \n",
       "2321      2412         Rocky V (1990)              Action|Drama   \n",
       "2318      2409        Rocky II (1979)              Action|Drama   \n",
       "2319      2410       Rocky III (1982)              Action|Drama   \n",
       "26168   125327  Rocky Mountain (1950)  Action|Adventure|Western   \n",
       "\n",
       "               Clean-title  \n",
       "1865            Rocky 1976  \n",
       "2321          Rocky V 1990  \n",
       "2318         Rocky II 1979  \n",
       "2319        Rocky III 1982  \n",
       "26168  Rocky Mountain 1950  "
      ]
     },
     "execution_count": 7,
     "metadata": {},
     "output_type": "execute_result"
    }
   ],
   "source": [
    "search(\"Rocky\")"
   ]
  },
  {
   "cell_type": "code",
   "execution_count": 8,
   "id": "436af3cf",
   "metadata": {},
   "outputs": [
    {
     "data": {
      "text/html": [
       "<div>\n",
       "<style scoped>\n",
       "    .dataframe tbody tr th:only-of-type {\n",
       "        vertical-align: middle;\n",
       "    }\n",
       "\n",
       "    .dataframe tbody tr th {\n",
       "        vertical-align: top;\n",
       "    }\n",
       "\n",
       "    .dataframe thead th {\n",
       "        text-align: right;\n",
       "    }\n",
       "</style>\n",
       "<table border=\"1\" class=\"dataframe\">\n",
       "  <thead>\n",
       "    <tr style=\"text-align: right;\">\n",
       "      <th></th>\n",
       "      <th>movieId</th>\n",
       "      <th>title</th>\n",
       "      <th>genres</th>\n",
       "      <th>Clean-title</th>\n",
       "    </tr>\n",
       "  </thead>\n",
       "  <tbody>\n",
       "    <tr>\n",
       "      <th>41858</th>\n",
       "      <td>162602</td>\n",
       "      <td>The Girl on the Train (2016)</td>\n",
       "      <td>Thriller</td>\n",
       "      <td>The Girl on the Train 2016</td>\n",
       "    </tr>\n",
       "    <tr>\n",
       "      <th>22356</th>\n",
       "      <td>114561</td>\n",
       "      <td>Girl on the Train, The (2013)</td>\n",
       "      <td>Thriller</td>\n",
       "      <td>Girl on the Train The 2013</td>\n",
       "    </tr>\n",
       "    <tr>\n",
       "      <th>35825</th>\n",
       "      <td>148771</td>\n",
       "      <td>The Girl on the Stone (2007)</td>\n",
       "      <td>Drama</td>\n",
       "      <td>The Girl on the Stone 2007</td>\n",
       "    </tr>\n",
       "    <tr>\n",
       "      <th>55015</th>\n",
       "      <td>190919</td>\n",
       "      <td>The Girl on the Broomstick (1972)</td>\n",
       "      <td>Children|Comedy</td>\n",
       "      <td>The Girl on the Broomstick 1972</td>\n",
       "    </tr>\n",
       "    <tr>\n",
       "      <th>15121</th>\n",
       "      <td>79972</td>\n",
       "      <td>Girl on the Train, The (La fille du RER) (2009)</td>\n",
       "      <td>Drama</td>\n",
       "      <td>Girl on the Train The La fille du RER 2009</td>\n",
       "    </tr>\n",
       "  </tbody>\n",
       "</table>\n",
       "</div>"
      ],
      "text/plain": [
       "       movieId                                            title  \\\n",
       "41858   162602                     The Girl on the Train (2016)   \n",
       "22356   114561                    Girl on the Train, The (2013)   \n",
       "35825   148771                     The Girl on the Stone (2007)   \n",
       "55015   190919                The Girl on the Broomstick (1972)   \n",
       "15121    79972  Girl on the Train, The (La fille du RER) (2009)   \n",
       "\n",
       "                genres                                 Clean-title  \n",
       "41858         Thriller                  The Girl on the Train 2016  \n",
       "22356         Thriller                  Girl on the Train The 2013  \n",
       "35825            Drama                  The Girl on the Stone 2007  \n",
       "55015  Children|Comedy             The Girl on the Broomstick 1972  \n",
       "15121            Drama  Girl on the Train The La fille du RER 2009  "
      ]
     },
     "execution_count": 8,
     "metadata": {},
     "output_type": "execute_result"
    }
   ],
   "source": [
    "search(\"The Girl on the Train\")"
   ]
  },
  {
   "cell_type": "markdown",
   "id": "cb3a0a0a",
   "metadata": {},
   "source": [
    "#### Building an interactive search box with jupyter"
   ]
  },
  {
   "cell_type": "markdown",
   "id": "a7e806ca",
   "metadata": {},
   "source": [
    "#### Input widget"
   ]
  },
  {
   "cell_type": "code",
   "execution_count": 9,
   "id": "06fe6006",
   "metadata": {},
   "outputs": [],
   "source": [
    "movie_input = widgets.Text(\n",
    "    value = \"Toy Story\",\n",
    "    description = \"Movie Title:\",\n",
    "    disabled = False\n",
    ")"
   ]
  },
  {
   "cell_type": "markdown",
   "id": "e43d1301",
   "metadata": {},
   "source": [
    "#### Output widget"
   ]
  },
  {
   "cell_type": "code",
   "execution_count": 10,
   "id": "71b6a614",
   "metadata": {},
   "outputs": [
    {
     "data": {
      "application/vnd.jupyter.widget-view+json": {
       "model_id": "3195762eb18b4ad7bbbc2b67a2a24815",
       "version_major": 2,
       "version_minor": 0
      },
      "text/plain": [
       "Text(value='Toy Story', description='Movie Title:')"
      ]
     },
     "metadata": {},
     "output_type": "display_data"
    },
    {
     "data": {
      "application/vnd.jupyter.widget-view+json": {
       "model_id": "781bc6f5b3604a49b98de84581575af4",
       "version_major": 2,
       "version_minor": 0
      },
      "text/plain": [
       "Output()"
      ]
     },
     "metadata": {},
     "output_type": "display_data"
    }
   ],
   "source": [
    "movie_list = widgets.Output()\n",
    "\n",
    "def on_type(data):\n",
    "    with movie_list:\n",
    "        movie_list.clear_output()\n",
    "        title = data[\"new\"]\n",
    "        if len(title) > 5:\n",
    "            display(search(title))\n",
    "\n",
    "movie_input.observe(on_type, names = 'value')\n",
    "\n",
    "display(movie_input, movie_list)"
   ]
  },
  {
   "cell_type": "markdown",
   "id": "819528a3",
   "metadata": {},
   "source": [
    "#### Reading in movie ratings data set, and find movies that are similar to our movie that we liked."
   ]
  },
  {
   "cell_type": "code",
   "execution_count": 11,
   "id": "11b76f60",
   "metadata": {},
   "outputs": [
    {
     "data": {
      "text/html": [
       "<div>\n",
       "<style scoped>\n",
       "    .dataframe tbody tr th:only-of-type {\n",
       "        vertical-align: middle;\n",
       "    }\n",
       "\n",
       "    .dataframe tbody tr th {\n",
       "        vertical-align: top;\n",
       "    }\n",
       "\n",
       "    .dataframe thead th {\n",
       "        text-align: right;\n",
       "    }\n",
       "</style>\n",
       "<table border=\"1\" class=\"dataframe\">\n",
       "  <thead>\n",
       "    <tr style=\"text-align: right;\">\n",
       "      <th></th>\n",
       "      <th>userId</th>\n",
       "      <th>movieId</th>\n",
       "      <th>rating</th>\n",
       "      <th>timestamp</th>\n",
       "    </tr>\n",
       "  </thead>\n",
       "  <tbody>\n",
       "    <tr>\n",
       "      <th>0</th>\n",
       "      <td>1</td>\n",
       "      <td>296</td>\n",
       "      <td>5.0</td>\n",
       "      <td>1147880044</td>\n",
       "    </tr>\n",
       "    <tr>\n",
       "      <th>1</th>\n",
       "      <td>1</td>\n",
       "      <td>306</td>\n",
       "      <td>3.5</td>\n",
       "      <td>1147868817</td>\n",
       "    </tr>\n",
       "    <tr>\n",
       "      <th>2</th>\n",
       "      <td>1</td>\n",
       "      <td>307</td>\n",
       "      <td>5.0</td>\n",
       "      <td>1147868828</td>\n",
       "    </tr>\n",
       "    <tr>\n",
       "      <th>3</th>\n",
       "      <td>1</td>\n",
       "      <td>665</td>\n",
       "      <td>5.0</td>\n",
       "      <td>1147878820</td>\n",
       "    </tr>\n",
       "    <tr>\n",
       "      <th>4</th>\n",
       "      <td>1</td>\n",
       "      <td>899</td>\n",
       "      <td>3.5</td>\n",
       "      <td>1147868510</td>\n",
       "    </tr>\n",
       "    <tr>\n",
       "      <th>...</th>\n",
       "      <td>...</td>\n",
       "      <td>...</td>\n",
       "      <td>...</td>\n",
       "      <td>...</td>\n",
       "    </tr>\n",
       "    <tr>\n",
       "      <th>25000090</th>\n",
       "      <td>162541</td>\n",
       "      <td>50872</td>\n",
       "      <td>4.5</td>\n",
       "      <td>1240953372</td>\n",
       "    </tr>\n",
       "    <tr>\n",
       "      <th>25000091</th>\n",
       "      <td>162541</td>\n",
       "      <td>55768</td>\n",
       "      <td>2.5</td>\n",
       "      <td>1240951998</td>\n",
       "    </tr>\n",
       "    <tr>\n",
       "      <th>25000092</th>\n",
       "      <td>162541</td>\n",
       "      <td>56176</td>\n",
       "      <td>2.0</td>\n",
       "      <td>1240950697</td>\n",
       "    </tr>\n",
       "    <tr>\n",
       "      <th>25000093</th>\n",
       "      <td>162541</td>\n",
       "      <td>58559</td>\n",
       "      <td>4.0</td>\n",
       "      <td>1240953434</td>\n",
       "    </tr>\n",
       "    <tr>\n",
       "      <th>25000094</th>\n",
       "      <td>162541</td>\n",
       "      <td>63876</td>\n",
       "      <td>5.0</td>\n",
       "      <td>1240952515</td>\n",
       "    </tr>\n",
       "  </tbody>\n",
       "</table>\n",
       "<p>25000095 rows × 4 columns</p>\n",
       "</div>"
      ],
      "text/plain": [
       "          userId  movieId  rating   timestamp\n",
       "0              1      296     5.0  1147880044\n",
       "1              1      306     3.5  1147868817\n",
       "2              1      307     5.0  1147868828\n",
       "3              1      665     5.0  1147878820\n",
       "4              1      899     3.5  1147868510\n",
       "...          ...      ...     ...         ...\n",
       "25000090  162541    50872     4.5  1240953372\n",
       "25000091  162541    55768     2.5  1240951998\n",
       "25000092  162541    56176     2.0  1240950697\n",
       "25000093  162541    58559     4.0  1240953434\n",
       "25000094  162541    63876     5.0  1240952515\n",
       "\n",
       "[25000095 rows x 4 columns]"
      ]
     },
     "execution_count": 11,
     "metadata": {},
     "output_type": "execute_result"
    }
   ],
   "source": [
    "ratings = pd.read_csv(\"data/ratings.csv\")\n",
    "ratings"
   ]
  },
  {
   "cell_type": "code",
   "execution_count": 12,
   "id": "d417f4c4",
   "metadata": {},
   "outputs": [
    {
     "data": {
      "text/plain": [
       "userId         int64\n",
       "movieId        int64\n",
       "rating       float64\n",
       "timestamp      int64\n",
       "dtype: object"
      ]
     },
     "execution_count": 12,
     "metadata": {},
     "output_type": "execute_result"
    }
   ],
   "source": [
    "ratings.dtypes"
   ]
  },
  {
   "cell_type": "markdown",
   "id": "8a791403",
   "metadata": {},
   "source": [
    "#### Find all the users who also liked the movie we typed in and we want to find the other movies they liked, because those are probably going to be good recommendations. Shorted, people who liked the same movie as us what else did they like."
   ]
  },
  {
   "cell_type": "code",
   "execution_count": 13,
   "id": "2a5e17c4",
   "metadata": {},
   "outputs": [
    {
     "data": {
      "text/plain": [
       "array([    36,     75,     86, ..., 162518, 162519, 162530], dtype=int64)"
      ]
     },
     "execution_count": 13,
     "metadata": {},
     "output_type": "execute_result"
    }
   ],
   "source": [
    "# Let's say this is the movieId that we typed in.\n",
    "\n",
    "movie_id = 1\n",
    "\n",
    "# We need to finding anyone who watched our movie\n",
    "# And find anyone who liked it\n",
    "# Let the threshold value be 4.5 rating out of 5\n",
    "\n",
    "similar_users = ratings[(ratings[\"movieId\"] == movie_id) & (ratings[\"rating\"] > 4.5)][\"userId\"].unique()\n",
    "similar_users"
   ]
  },
  {
   "cell_type": "code",
   "execution_count": 14,
   "id": "49af8bea",
   "metadata": {},
   "outputs": [
    {
     "data": {
      "text/plain": [
       "5101           1\n",
       "5105          34\n",
       "5111         110\n",
       "5114         150\n",
       "5127         260\n",
       "            ... \n",
       "24998388    3706\n",
       "24998389    3735\n",
       "24998391    3763\n",
       "24998392    4187\n",
       "24998393    4321\n",
       "Name: movieId, Length: 678648, dtype: int64"
      ]
     },
     "execution_count": 14,
     "metadata": {},
     "output_type": "execute_result"
    }
   ],
   "source": [
    "# First we going to find anyone who is similar to us and they watch the same movie and like it\n",
    "# Than we want to find any movies they rated  greater than 4.5\n",
    "\n",
    "similar_user_recs = ratings[(ratings[\"userId\"].isin(similar_users)) & (ratings[\"rating\"] > 4.5)][\"movieId\"]\n",
    "similar_user_recs"
   ]
  },
  {
   "cell_type": "markdown",
   "id": "ad969c71",
   "metadata": {},
   "source": [
    "#### Only the movies that greater than 10% of the users who are similar to us liked"
   ]
  },
  {
   "cell_type": "code",
   "execution_count": 15,
   "id": "84bd8a87",
   "metadata": {},
   "outputs": [
    {
     "data": {
      "text/plain": [
       "1         1.000000\n",
       "318       0.367762\n",
       "260       0.358285\n",
       "296       0.299126\n",
       "356       0.292240\n",
       "            ...   \n",
       "4435      0.000074\n",
       "188477    0.000074\n",
       "179439    0.000074\n",
       "179427    0.000074\n",
       "97957     0.000074\n",
       "Name: movieId, Length: 14179, dtype: float64"
      ]
     },
     "execution_count": 15,
     "metadata": {},
     "output_type": "execute_result"
    }
   ],
   "source": [
    "# similar_user_recs.value_counts() - counts up how many times each movie appears\n",
    "\n",
    "similar_user_recs = similar_user_recs.value_counts() / len(similar_users)\n",
    "similar_user_recs"
   ]
  },
  {
   "cell_type": "markdown",
   "id": "3b8e4959",
   "metadata": {},
   "source": [
    "#### Only take the ones with grater than 10%"
   ]
  },
  {
   "cell_type": "code",
   "execution_count": 16,
   "id": "386de7eb",
   "metadata": {},
   "outputs": [
    {
     "data": {
      "text/plain": [
       "1        1.000000\n",
       "318      0.367762\n",
       "260      0.358285\n",
       "296      0.299126\n",
       "356      0.292240\n",
       "           ...   \n",
       "1089     0.105064\n",
       "590      0.104620\n",
       "780      0.102991\n",
       "78499    0.101436\n",
       "750      0.100992\n",
       "Name: movieId, Length: 64, dtype: float64"
      ]
     },
     "execution_count": 16,
     "metadata": {},
     "output_type": "execute_result"
    }
   ],
   "source": [
    "similar_user_recs = similar_user_recs[similar_user_recs > .1]\n",
    "similar_user_recs"
   ]
  },
  {
   "cell_type": "markdown",
   "id": "96f619c3",
   "metadata": {},
   "source": [
    "#### Finding how much all users like movies"
   ]
  },
  {
   "cell_type": "code",
   "execution_count": 17,
   "id": "a3afcc0d",
   "metadata": {},
   "outputs": [],
   "source": [
    "all_users = ratings[(ratings[\"movieId\"].isin(similar_user_recs.index)) & (ratings[\"rating\"] > 4)]"
   ]
  },
  {
   "cell_type": "code",
   "execution_count": 18,
   "id": "161c8f45",
   "metadata": {},
   "outputs": [
    {
     "data": {
      "text/html": [
       "<div>\n",
       "<style scoped>\n",
       "    .dataframe tbody tr th:only-of-type {\n",
       "        vertical-align: middle;\n",
       "    }\n",
       "\n",
       "    .dataframe tbody tr th {\n",
       "        vertical-align: top;\n",
       "    }\n",
       "\n",
       "    .dataframe thead th {\n",
       "        text-align: right;\n",
       "    }\n",
       "</style>\n",
       "<table border=\"1\" class=\"dataframe\">\n",
       "  <thead>\n",
       "    <tr style=\"text-align: right;\">\n",
       "      <th></th>\n",
       "      <th>userId</th>\n",
       "      <th>movieId</th>\n",
       "      <th>rating</th>\n",
       "      <th>timestamp</th>\n",
       "    </tr>\n",
       "  </thead>\n",
       "  <tbody>\n",
       "    <tr>\n",
       "      <th>0</th>\n",
       "      <td>1</td>\n",
       "      <td>296</td>\n",
       "      <td>5.0</td>\n",
       "      <td>1147880044</td>\n",
       "    </tr>\n",
       "    <tr>\n",
       "      <th>72</th>\n",
       "      <td>2</td>\n",
       "      <td>110</td>\n",
       "      <td>5.0</td>\n",
       "      <td>1141416589</td>\n",
       "    </tr>\n",
       "    <tr>\n",
       "      <th>76</th>\n",
       "      <td>2</td>\n",
       "      <td>260</td>\n",
       "      <td>5.0</td>\n",
       "      <td>1141417172</td>\n",
       "    </tr>\n",
       "    <tr>\n",
       "      <th>79</th>\n",
       "      <td>2</td>\n",
       "      <td>318</td>\n",
       "      <td>5.0</td>\n",
       "      <td>1141417181</td>\n",
       "    </tr>\n",
       "    <tr>\n",
       "      <th>82</th>\n",
       "      <td>2</td>\n",
       "      <td>356</td>\n",
       "      <td>4.5</td>\n",
       "      <td>1141416637</td>\n",
       "    </tr>\n",
       "    <tr>\n",
       "      <th>...</th>\n",
       "      <td>...</td>\n",
       "      <td>...</td>\n",
       "      <td>...</td>\n",
       "      <td>...</td>\n",
       "    </tr>\n",
       "    <tr>\n",
       "      <th>25000018</th>\n",
       "      <td>162541</td>\n",
       "      <td>2858</td>\n",
       "      <td>5.0</td>\n",
       "      <td>1240950804</td>\n",
       "    </tr>\n",
       "    <tr>\n",
       "      <th>25000020</th>\n",
       "      <td>162541</td>\n",
       "      <td>2959</td>\n",
       "      <td>5.0</td>\n",
       "      <td>1240953488</td>\n",
       "    </tr>\n",
       "    <tr>\n",
       "      <th>25000057</th>\n",
       "      <td>162541</td>\n",
       "      <td>4993</td>\n",
       "      <td>5.0</td>\n",
       "      <td>1240952610</td>\n",
       "    </tr>\n",
       "    <tr>\n",
       "      <th>25000065</th>\n",
       "      <td>162541</td>\n",
       "      <td>5952</td>\n",
       "      <td>5.0</td>\n",
       "      <td>1240952617</td>\n",
       "    </tr>\n",
       "    <tr>\n",
       "      <th>25000078</th>\n",
       "      <td>162541</td>\n",
       "      <td>7153</td>\n",
       "      <td>5.0</td>\n",
       "      <td>1240952613</td>\n",
       "    </tr>\n",
       "  </tbody>\n",
       "</table>\n",
       "<p>1215933 rows × 4 columns</p>\n",
       "</div>"
      ],
      "text/plain": [
       "          userId  movieId  rating   timestamp\n",
       "0              1      296     5.0  1147880044\n",
       "72             2      110     5.0  1141416589\n",
       "76             2      260     5.0  1141417172\n",
       "79             2      318     5.0  1141417181\n",
       "82             2      356     4.5  1141416637\n",
       "...          ...      ...     ...         ...\n",
       "25000018  162541     2858     5.0  1240950804\n",
       "25000020  162541     2959     5.0  1240953488\n",
       "25000057  162541     4993     5.0  1240952610\n",
       "25000065  162541     5952     5.0  1240952617\n",
       "25000078  162541     7153     5.0  1240952613\n",
       "\n",
       "[1215933 rows x 4 columns]"
      ]
     },
     "execution_count": 18,
     "metadata": {},
     "output_type": "execute_result"
    }
   ],
   "source": [
    "all_users"
   ]
  },
  {
   "cell_type": "markdown",
   "id": "e5be671c",
   "metadata": {},
   "source": [
    "#### All of the users who have watched movies that were recommended to us. What percentage of all users recommend each of these movies."
   ]
  },
  {
   "cell_type": "code",
   "execution_count": 19,
   "id": "58509cfe",
   "metadata": {},
   "outputs": [],
   "source": [
    "all_users_recs = all_users[\"movieId\"].value_counts() / len(all_users[\"userId\"].unique())"
   ]
  },
  {
   "cell_type": "code",
   "execution_count": 20,
   "id": "0b030cff",
   "metadata": {},
   "outputs": [
    {
     "data": {
      "text/plain": [
       "318      0.353117\n",
       "296      0.293738\n",
       "2571     0.251804\n",
       "356      0.242757\n",
       "593      0.233102\n",
       "           ...   \n",
       "3114     0.055416\n",
       "34       0.053892\n",
       "1073     0.050318\n",
       "1148     0.048979\n",
       "78499    0.036249\n",
       "Name: movieId, Length: 64, dtype: float64"
      ]
     },
     "execution_count": 20,
     "metadata": {},
     "output_type": "execute_result"
    }
   ],
   "source": [
    "all_users_recs"
   ]
  },
  {
   "cell_type": "markdown",
   "id": "b3aaec4b",
   "metadata": {},
   "source": [
    "#### Creating a recommendation score. Comparing the percentages."
   ]
  },
  {
   "cell_type": "code",
   "execution_count": 21,
   "id": "4de5e83b",
   "metadata": {},
   "outputs": [],
   "source": [
    "rec_percentages = pd.concat([similar_user_recs, all_users_recs], axis=1)\n",
    "rec_percentages.columns = [\"similar\", \"all\"]"
   ]
  },
  {
   "cell_type": "code",
   "execution_count": 22,
   "id": "46bc9f44",
   "metadata": {},
   "outputs": [
    {
     "data": {
      "text/html": [
       "<div>\n",
       "<style scoped>\n",
       "    .dataframe tbody tr th:only-of-type {\n",
       "        vertical-align: middle;\n",
       "    }\n",
       "\n",
       "    .dataframe tbody tr th {\n",
       "        vertical-align: top;\n",
       "    }\n",
       "\n",
       "    .dataframe thead th {\n",
       "        text-align: right;\n",
       "    }\n",
       "</style>\n",
       "<table border=\"1\" class=\"dataframe\">\n",
       "  <thead>\n",
       "    <tr style=\"text-align: right;\">\n",
       "      <th></th>\n",
       "      <th>similar</th>\n",
       "      <th>all</th>\n",
       "    </tr>\n",
       "  </thead>\n",
       "  <tbody>\n",
       "    <tr>\n",
       "      <th>1</th>\n",
       "      <td>1.000000</td>\n",
       "      <td>0.128700</td>\n",
       "    </tr>\n",
       "    <tr>\n",
       "      <th>318</th>\n",
       "      <td>0.367762</td>\n",
       "      <td>0.353117</td>\n",
       "    </tr>\n",
       "    <tr>\n",
       "      <th>260</th>\n",
       "      <td>0.358285</td>\n",
       "      <td>0.229282</td>\n",
       "    </tr>\n",
       "    <tr>\n",
       "      <th>296</th>\n",
       "      <td>0.299126</td>\n",
       "      <td>0.293738</td>\n",
       "    </tr>\n",
       "    <tr>\n",
       "      <th>356</th>\n",
       "      <td>0.292240</td>\n",
       "      <td>0.242757</td>\n",
       "    </tr>\n",
       "    <tr>\n",
       "      <th>...</th>\n",
       "      <td>...</td>\n",
       "      <td>...</td>\n",
       "    </tr>\n",
       "    <tr>\n",
       "      <th>1089</th>\n",
       "      <td>0.105064</td>\n",
       "      <td>0.103985</td>\n",
       "    </tr>\n",
       "    <tr>\n",
       "      <th>590</th>\n",
       "      <td>0.104620</td>\n",
       "      <td>0.072321</td>\n",
       "    </tr>\n",
       "    <tr>\n",
       "      <th>780</th>\n",
       "      <td>0.102991</td>\n",
       "      <td>0.055785</td>\n",
       "    </tr>\n",
       "    <tr>\n",
       "      <th>78499</th>\n",
       "      <td>0.101436</td>\n",
       "      <td>0.036249</td>\n",
       "    </tr>\n",
       "    <tr>\n",
       "      <th>750</th>\n",
       "      <td>0.100992</td>\n",
       "      <td>0.097856</td>\n",
       "    </tr>\n",
       "  </tbody>\n",
       "</table>\n",
       "<p>64 rows × 2 columns</p>\n",
       "</div>"
      ],
      "text/plain": [
       "        similar       all\n",
       "1      1.000000  0.128700\n",
       "318    0.367762  0.353117\n",
       "260    0.358285  0.229282\n",
       "296    0.299126  0.293738\n",
       "356    0.292240  0.242757\n",
       "...         ...       ...\n",
       "1089   0.105064  0.103985\n",
       "590    0.104620  0.072321\n",
       "780    0.102991  0.055785\n",
       "78499  0.101436  0.036249\n",
       "750    0.100992  0.097856\n",
       "\n",
       "[64 rows x 2 columns]"
      ]
     },
     "execution_count": 22,
     "metadata": {},
     "output_type": "execute_result"
    }
   ],
   "source": [
    "rec_percentages"
   ]
  },
  {
   "cell_type": "markdown",
   "id": "758c157e",
   "metadata": {},
   "source": [
    "#### We want movies where those two numbers are big in difference"
   ]
  },
  {
   "cell_type": "code",
   "execution_count": 23,
   "id": "b5d92f15",
   "metadata": {},
   "outputs": [],
   "source": [
    "rec_percentages[\"score\"] = rec_percentages[\"similar\"] / rec_percentages[\"all\"]"
   ]
  },
  {
   "cell_type": "code",
   "execution_count": 24,
   "id": "35b34250",
   "metadata": {},
   "outputs": [],
   "source": [
    "rec_percentages = rec_percentages.sort_values(\"score\", ascending = False)"
   ]
  },
  {
   "cell_type": "code",
   "execution_count": 25,
   "id": "a558ecc4",
   "metadata": {},
   "outputs": [
    {
     "data": {
      "text/html": [
       "<div>\n",
       "<style scoped>\n",
       "    .dataframe tbody tr th:only-of-type {\n",
       "        vertical-align: middle;\n",
       "    }\n",
       "\n",
       "    .dataframe tbody tr th {\n",
       "        vertical-align: top;\n",
       "    }\n",
       "\n",
       "    .dataframe thead th {\n",
       "        text-align: right;\n",
       "    }\n",
       "</style>\n",
       "<table border=\"1\" class=\"dataframe\">\n",
       "  <thead>\n",
       "    <tr style=\"text-align: right;\">\n",
       "      <th></th>\n",
       "      <th>similar</th>\n",
       "      <th>all</th>\n",
       "      <th>score</th>\n",
       "    </tr>\n",
       "  </thead>\n",
       "  <tbody>\n",
       "    <tr>\n",
       "      <th>1</th>\n",
       "      <td>1.000000</td>\n",
       "      <td>0.128700</td>\n",
       "      <td>7.770003</td>\n",
       "    </tr>\n",
       "    <tr>\n",
       "      <th>3114</th>\n",
       "      <td>0.236043</td>\n",
       "      <td>0.055416</td>\n",
       "      <td>4.259489</td>\n",
       "    </tr>\n",
       "    <tr>\n",
       "      <th>78499</th>\n",
       "      <td>0.101436</td>\n",
       "      <td>0.036249</td>\n",
       "      <td>2.798306</td>\n",
       "    </tr>\n",
       "    <tr>\n",
       "      <th>588</th>\n",
       "      <td>0.193988</td>\n",
       "      <td>0.069663</td>\n",
       "      <td>2.784672</td>\n",
       "    </tr>\n",
       "    <tr>\n",
       "      <th>595</th>\n",
       "      <td>0.170295</td>\n",
       "      <td>0.061887</td>\n",
       "      <td>2.751715</td>\n",
       "    </tr>\n",
       "    <tr>\n",
       "      <th>...</th>\n",
       "      <td>...</td>\n",
       "      <td>...</td>\n",
       "      <td>...</td>\n",
       "    </tr>\n",
       "    <tr>\n",
       "      <th>2858</th>\n",
       "      <td>0.154376</td>\n",
       "      <td>0.172971</td>\n",
       "      <td>0.892494</td>\n",
       "    </tr>\n",
       "    <tr>\n",
       "      <th>7153</th>\n",
       "      <td>0.152303</td>\n",
       "      <td>0.178069</td>\n",
       "      <td>0.855303</td>\n",
       "    </tr>\n",
       "    <tr>\n",
       "      <th>4226</th>\n",
       "      <td>0.107286</td>\n",
       "      <td>0.136155</td>\n",
       "      <td>0.787968</td>\n",
       "    </tr>\n",
       "    <tr>\n",
       "      <th>58559</th>\n",
       "      <td>0.117577</td>\n",
       "      <td>0.151133</td>\n",
       "      <td>0.777973</td>\n",
       "    </tr>\n",
       "    <tr>\n",
       "      <th>2959</th>\n",
       "      <td>0.158596</td>\n",
       "      <td>0.223618</td>\n",
       "      <td>0.709229</td>\n",
       "    </tr>\n",
       "  </tbody>\n",
       "</table>\n",
       "<p>64 rows × 3 columns</p>\n",
       "</div>"
      ],
      "text/plain": [
       "        similar       all     score\n",
       "1      1.000000  0.128700  7.770003\n",
       "3114   0.236043  0.055416  4.259489\n",
       "78499  0.101436  0.036249  2.798306\n",
       "588    0.193988  0.069663  2.784672\n",
       "595    0.170295  0.061887  2.751715\n",
       "...         ...       ...       ...\n",
       "2858   0.154376  0.172971  0.892494\n",
       "7153   0.152303  0.178069  0.855303\n",
       "4226   0.107286  0.136155  0.787968\n",
       "58559  0.117577  0.151133  0.777973\n",
       "2959   0.158596  0.223618  0.709229\n",
       "\n",
       "[64 rows x 3 columns]"
      ]
     },
     "execution_count": 25,
     "metadata": {},
     "output_type": "execute_result"
    }
   ],
   "source": [
    "rec_percentages"
   ]
  },
  {
   "cell_type": "code",
   "execution_count": 26,
   "id": "9aba8c13",
   "metadata": {},
   "outputs": [
    {
     "data": {
      "text/html": [
       "<div>\n",
       "<style scoped>\n",
       "    .dataframe tbody tr th:only-of-type {\n",
       "        vertical-align: middle;\n",
       "    }\n",
       "\n",
       "    .dataframe tbody tr th {\n",
       "        vertical-align: top;\n",
       "    }\n",
       "\n",
       "    .dataframe thead th {\n",
       "        text-align: right;\n",
       "    }\n",
       "</style>\n",
       "<table border=\"1\" class=\"dataframe\">\n",
       "  <thead>\n",
       "    <tr style=\"text-align: right;\">\n",
       "      <th></th>\n",
       "      <th>similar</th>\n",
       "      <th>all</th>\n",
       "      <th>score</th>\n",
       "      <th>movieId</th>\n",
       "      <th>title</th>\n",
       "      <th>genres</th>\n",
       "      <th>Clean-title</th>\n",
       "    </tr>\n",
       "  </thead>\n",
       "  <tbody>\n",
       "    <tr>\n",
       "      <th>0</th>\n",
       "      <td>1.000000</td>\n",
       "      <td>0.128700</td>\n",
       "      <td>7.770003</td>\n",
       "      <td>1</td>\n",
       "      <td>Toy Story (1995)</td>\n",
       "      <td>Adventure|Animation|Children|Comedy|Fantasy</td>\n",
       "      <td>Toy Story 1995</td>\n",
       "    </tr>\n",
       "    <tr>\n",
       "      <th>3021</th>\n",
       "      <td>0.236043</td>\n",
       "      <td>0.055416</td>\n",
       "      <td>4.259489</td>\n",
       "      <td>3114</td>\n",
       "      <td>Toy Story 2 (1999)</td>\n",
       "      <td>Adventure|Animation|Children|Comedy|Fantasy</td>\n",
       "      <td>Toy Story 2 1999</td>\n",
       "    </tr>\n",
       "    <tr>\n",
       "      <th>14813</th>\n",
       "      <td>0.101436</td>\n",
       "      <td>0.036249</td>\n",
       "      <td>2.798306</td>\n",
       "      <td>78499</td>\n",
       "      <td>Toy Story 3 (2010)</td>\n",
       "      <td>Adventure|Animation|Children|Comedy|Fantasy|IMAX</td>\n",
       "      <td>Toy Story 3 2010</td>\n",
       "    </tr>\n",
       "    <tr>\n",
       "      <th>580</th>\n",
       "      <td>0.193988</td>\n",
       "      <td>0.069663</td>\n",
       "      <td>2.784672</td>\n",
       "      <td>588</td>\n",
       "      <td>Aladdin (1992)</td>\n",
       "      <td>Adventure|Animation|Children|Comedy|Musical</td>\n",
       "      <td>Aladdin 1992</td>\n",
       "    </tr>\n",
       "    <tr>\n",
       "      <th>587</th>\n",
       "      <td>0.170295</td>\n",
       "      <td>0.061887</td>\n",
       "      <td>2.751715</td>\n",
       "      <td>595</td>\n",
       "      <td>Beauty and the Beast (1991)</td>\n",
       "      <td>Animation|Children|Fantasy|Musical|Romance|IMAX</td>\n",
       "      <td>Beauty and the Beast 1991</td>\n",
       "    </tr>\n",
       "    <tr>\n",
       "      <th>33</th>\n",
       "      <td>0.143418</td>\n",
       "      <td>0.053892</td>\n",
       "      <td>2.661202</td>\n",
       "      <td>34</td>\n",
       "      <td>Babe (1995)</td>\n",
       "      <td>Children|Drama</td>\n",
       "      <td>Babe 1995</td>\n",
       "    </tr>\n",
       "    <tr>\n",
       "      <th>359</th>\n",
       "      <td>0.211832</td>\n",
       "      <td>0.088495</td>\n",
       "      <td>2.393727</td>\n",
       "      <td>364</td>\n",
       "      <td>Lion King, The (1994)</td>\n",
       "      <td>Adventure|Animation|Children|Drama|Musical|IMAX</td>\n",
       "      <td>Lion King The 1994</td>\n",
       "    </tr>\n",
       "    <tr>\n",
       "      <th>1047</th>\n",
       "      <td>0.119502</td>\n",
       "      <td>0.050318</td>\n",
       "      <td>2.374924</td>\n",
       "      <td>1073</td>\n",
       "      <td>Willy Wonka &amp; the Chocolate Factory (1971)</td>\n",
       "      <td>Children|Comedy|Fantasy|Musical</td>\n",
       "      <td>Willy Wonka  the Chocolate Factory 1971</td>\n",
       "    </tr>\n",
       "    <tr>\n",
       "      <th>1120</th>\n",
       "      <td>0.110247</td>\n",
       "      <td>0.048979</td>\n",
       "      <td>2.250903</td>\n",
       "      <td>1148</td>\n",
       "      <td>Wallace &amp; Gromit: The Wrong Trousers (1993)</td>\n",
       "      <td>Animation|Children|Comedy|Crime</td>\n",
       "      <td>Wallace  Gromit The Wrong Trousers 1993</td>\n",
       "    </tr>\n",
       "    <tr>\n",
       "      <th>898</th>\n",
       "      <td>0.132682</td>\n",
       "      <td>0.062843</td>\n",
       "      <td>2.111309</td>\n",
       "      <td>919</td>\n",
       "      <td>Wizard of Oz, The (1939)</td>\n",
       "      <td>Adventure|Children|Fantasy|Musical</td>\n",
       "      <td>Wizard of Oz The 1939</td>\n",
       "    </tr>\n",
       "  </tbody>\n",
       "</table>\n",
       "</div>"
      ],
      "text/plain": [
       "        similar       all     score  movieId  \\\n",
       "0      1.000000  0.128700  7.770003        1   \n",
       "3021   0.236043  0.055416  4.259489     3114   \n",
       "14813  0.101436  0.036249  2.798306    78499   \n",
       "580    0.193988  0.069663  2.784672      588   \n",
       "587    0.170295  0.061887  2.751715      595   \n",
       "33     0.143418  0.053892  2.661202       34   \n",
       "359    0.211832  0.088495  2.393727      364   \n",
       "1047   0.119502  0.050318  2.374924     1073   \n",
       "1120   0.110247  0.048979  2.250903     1148   \n",
       "898    0.132682  0.062843  2.111309      919   \n",
       "\n",
       "                                             title  \\\n",
       "0                                 Toy Story (1995)   \n",
       "3021                            Toy Story 2 (1999)   \n",
       "14813                           Toy Story 3 (2010)   \n",
       "580                                 Aladdin (1992)   \n",
       "587                    Beauty and the Beast (1991)   \n",
       "33                                     Babe (1995)   \n",
       "359                          Lion King, The (1994)   \n",
       "1047    Willy Wonka & the Chocolate Factory (1971)   \n",
       "1120   Wallace & Gromit: The Wrong Trousers (1993)   \n",
       "898                       Wizard of Oz, The (1939)   \n",
       "\n",
       "                                                 genres  \\\n",
       "0           Adventure|Animation|Children|Comedy|Fantasy   \n",
       "3021        Adventure|Animation|Children|Comedy|Fantasy   \n",
       "14813  Adventure|Animation|Children|Comedy|Fantasy|IMAX   \n",
       "580         Adventure|Animation|Children|Comedy|Musical   \n",
       "587     Animation|Children|Fantasy|Musical|Romance|IMAX   \n",
       "33                                       Children|Drama   \n",
       "359     Adventure|Animation|Children|Drama|Musical|IMAX   \n",
       "1047                    Children|Comedy|Fantasy|Musical   \n",
       "1120                    Animation|Children|Comedy|Crime   \n",
       "898                  Adventure|Children|Fantasy|Musical   \n",
       "\n",
       "                                   Clean-title  \n",
       "0                               Toy Story 1995  \n",
       "3021                          Toy Story 2 1999  \n",
       "14813                         Toy Story 3 2010  \n",
       "580                               Aladdin 1992  \n",
       "587                  Beauty and the Beast 1991  \n",
       "33                                   Babe 1995  \n",
       "359                         Lion King The 1994  \n",
       "1047   Willy Wonka  the Chocolate Factory 1971  \n",
       "1120   Wallace  Gromit The Wrong Trousers 1993  \n",
       "898                      Wizard of Oz The 1939  "
      ]
     },
     "execution_count": 26,
     "metadata": {},
     "output_type": "execute_result"
    }
   ],
   "source": [
    "rec_percentages.head(10).merge(movies, left_index = True, right_on = \"movieId\")"
   ]
  },
  {
   "cell_type": "markdown",
   "id": "d225f307",
   "metadata": {},
   "source": [
    "#### Building a recommendation function"
   ]
  },
  {
   "cell_type": "code",
   "execution_count": 27,
   "id": "f49ff8dd",
   "metadata": {},
   "outputs": [],
   "source": [
    "def find_similar_movies(movie_id):\n",
    "    # Finding recommendations from users similar to us\n",
    "    similar_users = ratings[(ratings[\"movieId\"] == movie_id) & (ratings[\"rating\"] > 4)][\"userId\"].unique()\n",
    "    similar_user_recs = ratings[(ratings[\"userId\"].isin(similar_users)) & (ratings[\"rating\"] > 4)][\"movieId\"]\n",
    "    \n",
    "    # Adjusting so we only have recommendations where over 10% of users\n",
    "    # recommended that movie\n",
    "    similar_user_recs = similar_user_recs.value_counts() / len(similar_users)\n",
    "    similar_user_recs = similar_user_recs[similar_user_recs > .1]\n",
    "    \n",
    "    # Finding how common the recommendations were among all of the users\n",
    "    all_users = ratings[(ratings[\"movieId\"].isin(similar_user_recs.index)) & (ratings[\"rating\"] > 4)]\n",
    "    all_users_recs = all_users[\"movieId\"].value_counts() / len(all_users[\"userId\"].unique())\n",
    "    \n",
    "    # Creating score\n",
    "    rec_percentages = pd.concat([similar_user_recs, all_users_recs], axis=1)\n",
    "    rec_percentages.columns = [\"similar\", \"all\"]\n",
    "    \n",
    "    rec_percentages[\"score\"] = rec_percentages[\"similar\"] / rec_percentages[\"all\"]\n",
    "    \n",
    "    rec_percentages = rec_percentages.sort_values(\"score\", ascending = False)\n",
    "    return rec_percentages.head(10).merge(movies, left_index = True, right_on = \"movieId\")[[\"score\", \"title\",\"genres\"]]"
   ]
  },
  {
   "cell_type": "markdown",
   "id": "f818ecff",
   "metadata": {},
   "source": [
    "#### Creating an interactive recommendation widget"
   ]
  },
  {
   "cell_type": "code",
   "execution_count": 28,
   "id": "5b85b3a3",
   "metadata": {},
   "outputs": [
    {
     "data": {
      "application/vnd.jupyter.widget-view+json": {
       "model_id": "22a57b4effe9405da0f52d0c23d66c4c",
       "version_major": 2,
       "version_minor": 0
      },
      "text/plain": [
       "Text(value='Toy Story', description='Movie Title:')"
      ]
     },
     "metadata": {},
     "output_type": "display_data"
    },
    {
     "data": {
      "application/vnd.jupyter.widget-view+json": {
       "model_id": "9ce388a8ea304c6a9b90cc3b1d1340b5",
       "version_major": 2,
       "version_minor": 0
      },
      "text/plain": [
       "Output()"
      ]
     },
     "metadata": {},
     "output_type": "display_data"
    }
   ],
   "source": [
    "movie_name_input = widgets.Text(\n",
    "    value = \"Toy Story\",\n",
    "    description = \"Movie Title:\",\n",
    "    disabled = False\n",
    ")\n",
    "\n",
    "recommendation_list = widgets.Output()\n",
    "\n",
    "def on_type(data):\n",
    "    with recommendation_list:\n",
    "        recommendation_list.clear_output()\n",
    "        title = data[\"new\"]\n",
    "        if len(title) > 5:\n",
    "            results = search(title)\n",
    "            movie_id = results.iloc[0][\"movieId\"]\n",
    "            display(find_similar_movies(movie_id))\n",
    "            \n",
    "movie_name_input.observe(on_type, names = \"value\")\n",
    "\n",
    "display(movie_name_input, recommendation_list)"
   ]
  }
 ],
 "metadata": {
  "kernelspec": {
   "display_name": "Python 3 (ipykernel)",
   "language": "python",
   "name": "python3"
  },
  "language_info": {
   "codemirror_mode": {
    "name": "ipython",
    "version": 3
   },
   "file_extension": ".py",
   "mimetype": "text/x-python",
   "name": "python",
   "nbconvert_exporter": "python",
   "pygments_lexer": "ipython3",
   "version": "3.9.13"
  }
 },
 "nbformat": 4,
 "nbformat_minor": 5
}
